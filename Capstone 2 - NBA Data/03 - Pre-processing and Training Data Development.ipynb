{
 "cells": [
  {
   "cell_type": "markdown",
   "id": "48979369",
   "metadata": {},
   "source": [
    " # NBA Data: Pre-processing and Training Data Development"
   ]
  },
  {
   "cell_type": "markdown",
   "id": "c4a19f9d",
   "metadata": {},
   "source": [
    "## Imports"
   ]
  },
  {
   "cell_type": "code",
   "execution_count": 2,
   "id": "7d4afc75",
   "metadata": {},
   "outputs": [],
   "source": [
    "import pickle\n",
    "import pandas as pd\n",
    "import numpy as np\n",
    "import os\n",
    "import matplotlib.pyplot as plt\n",
    "import seaborn as sns\n",
    "from sklearn.preprocessing import StandardScaler\n",
    "from sklearn.model_selection import train_test_split"
   ]
  },
  {
   "cell_type": "markdown",
   "id": "db46ff29",
   "metadata": {},
   "source": [
    "## Load Data"
   ]
  },
  {
   "cell_type": "code",
   "execution_count": 3,
   "id": "773e8702",
   "metadata": {},
   "outputs": [
    {
     "data": {
      "text/html": [
       "<div>\n",
       "<style scoped>\n",
       "    .dataframe tbody tr th:only-of-type {\n",
       "        vertical-align: middle;\n",
       "    }\n",
       "\n",
       "    .dataframe tbody tr th {\n",
       "        vertical-align: top;\n",
       "    }\n",
       "\n",
       "    .dataframe thead th {\n",
       "        text-align: right;\n",
       "    }\n",
       "</style>\n",
       "<table border=\"1\" class=\"dataframe\">\n",
       "  <thead>\n",
       "    <tr style=\"text-align: right;\">\n",
       "      <th></th>\n",
       "      <th>fga</th>\n",
       "      <th>fg_pct</th>\n",
       "      <th>fg2a</th>\n",
       "      <th>fg2_pct</th>\n",
       "      <th>fg3a</th>\n",
       "      <th>fg3_pct</th>\n",
       "      <th>fta</th>\n",
       "      <th>ft_pct</th>\n",
       "      <th>reb</th>\n",
       "      <th>ast</th>\n",
       "      <th>stl</th>\n",
       "      <th>blk</th>\n",
       "      <th>to</th>\n",
       "      <th>pf</th>\n",
       "      <th>win</th>\n",
       "    </tr>\n",
       "  </thead>\n",
       "  <tbody>\n",
       "    <tr>\n",
       "      <th>0</th>\n",
       "      <td>76.0</td>\n",
       "      <td>0.447368</td>\n",
       "      <td>68.0</td>\n",
       "      <td>0.470588</td>\n",
       "      <td>8.0</td>\n",
       "      <td>0.250000</td>\n",
       "      <td>30.0</td>\n",
       "      <td>0.500000</td>\n",
       "      <td>38.0</td>\n",
       "      <td>20.0</td>\n",
       "      <td>9.0</td>\n",
       "      <td>4.0</td>\n",
       "      <td>18.0</td>\n",
       "      <td>34.0</td>\n",
       "      <td>loss</td>\n",
       "    </tr>\n",
       "    <tr>\n",
       "      <th>1</th>\n",
       "      <td>70.0</td>\n",
       "      <td>0.457143</td>\n",
       "      <td>63.0</td>\n",
       "      <td>0.492063</td>\n",
       "      <td>7.0</td>\n",
       "      <td>0.142857</td>\n",
       "      <td>34.0</td>\n",
       "      <td>0.735294</td>\n",
       "      <td>41.0</td>\n",
       "      <td>23.0</td>\n",
       "      <td>8.0</td>\n",
       "      <td>4.0</td>\n",
       "      <td>18.0</td>\n",
       "      <td>26.0</td>\n",
       "      <td>win</td>\n",
       "    </tr>\n",
       "    <tr>\n",
       "      <th>2</th>\n",
       "      <td>81.0</td>\n",
       "      <td>0.493827</td>\n",
       "      <td>66.0</td>\n",
       "      <td>0.545455</td>\n",
       "      <td>15.0</td>\n",
       "      <td>0.266667</td>\n",
       "      <td>34.0</td>\n",
       "      <td>0.617647</td>\n",
       "      <td>48.0</td>\n",
       "      <td>25.0</td>\n",
       "      <td>18.0</td>\n",
       "      <td>7.0</td>\n",
       "      <td>25.0</td>\n",
       "      <td>35.0</td>\n",
       "      <td>win</td>\n",
       "    </tr>\n",
       "    <tr>\n",
       "      <th>3</th>\n",
       "      <td>75.0</td>\n",
       "      <td>0.426667</td>\n",
       "      <td>62.0</td>\n",
       "      <td>0.483871</td>\n",
       "      <td>13.0</td>\n",
       "      <td>0.153846</td>\n",
       "      <td>40.0</td>\n",
       "      <td>0.700000</td>\n",
       "      <td>43.0</td>\n",
       "      <td>20.0</td>\n",
       "      <td>9.0</td>\n",
       "      <td>4.0</td>\n",
       "      <td>24.0</td>\n",
       "      <td>26.0</td>\n",
       "      <td>loss</td>\n",
       "    </tr>\n",
       "    <tr>\n",
       "      <th>4</th>\n",
       "      <td>77.0</td>\n",
       "      <td>0.493506</td>\n",
       "      <td>71.0</td>\n",
       "      <td>0.478873</td>\n",
       "      <td>6.0</td>\n",
       "      <td>0.666667</td>\n",
       "      <td>29.0</td>\n",
       "      <td>0.689655</td>\n",
       "      <td>52.0</td>\n",
       "      <td>25.0</td>\n",
       "      <td>10.0</td>\n",
       "      <td>7.0</td>\n",
       "      <td>25.0</td>\n",
       "      <td>33.0</td>\n",
       "      <td>win</td>\n",
       "    </tr>\n",
       "    <tr>\n",
       "      <th>...</th>\n",
       "      <td>...</td>\n",
       "      <td>...</td>\n",
       "      <td>...</td>\n",
       "      <td>...</td>\n",
       "      <td>...</td>\n",
       "      <td>...</td>\n",
       "      <td>...</td>\n",
       "      <td>...</td>\n",
       "      <td>...</td>\n",
       "      <td>...</td>\n",
       "      <td>...</td>\n",
       "      <td>...</td>\n",
       "      <td>...</td>\n",
       "      <td>...</td>\n",
       "      <td>...</td>\n",
       "    </tr>\n",
       "    <tr>\n",
       "      <th>51332</th>\n",
       "      <td>97.0</td>\n",
       "      <td>0.350515</td>\n",
       "      <td>75.0</td>\n",
       "      <td>0.346667</td>\n",
       "      <td>22.0</td>\n",
       "      <td>0.363636</td>\n",
       "      <td>24.0</td>\n",
       "      <td>0.833333</td>\n",
       "      <td>55.0</td>\n",
       "      <td>20.0</td>\n",
       "      <td>5.0</td>\n",
       "      <td>7.0</td>\n",
       "      <td>8.0</td>\n",
       "      <td>22.0</td>\n",
       "      <td>loss</td>\n",
       "    </tr>\n",
       "    <tr>\n",
       "      <th>51333</th>\n",
       "      <td>100.0</td>\n",
       "      <td>0.410000</td>\n",
       "      <td>59.0</td>\n",
       "      <td>0.440678</td>\n",
       "      <td>41.0</td>\n",
       "      <td>0.365854</td>\n",
       "      <td>21.0</td>\n",
       "      <td>0.857143</td>\n",
       "      <td>40.0</td>\n",
       "      <td>30.0</td>\n",
       "      <td>9.0</td>\n",
       "      <td>4.0</td>\n",
       "      <td>14.0</td>\n",
       "      <td>19.0</td>\n",
       "      <td>loss</td>\n",
       "    </tr>\n",
       "    <tr>\n",
       "      <th>51334</th>\n",
       "      <td>93.0</td>\n",
       "      <td>0.580645</td>\n",
       "      <td>65.0</td>\n",
       "      <td>0.615385</td>\n",
       "      <td>28.0</td>\n",
       "      <td>0.500000</td>\n",
       "      <td>26.0</td>\n",
       "      <td>0.769231</td>\n",
       "      <td>52.0</td>\n",
       "      <td>34.0</td>\n",
       "      <td>7.0</td>\n",
       "      <td>9.0</td>\n",
       "      <td>15.0</td>\n",
       "      <td>20.0</td>\n",
       "      <td>win</td>\n",
       "    </tr>\n",
       "    <tr>\n",
       "      <th>51335</th>\n",
       "      <td>94.0</td>\n",
       "      <td>0.446809</td>\n",
       "      <td>60.0</td>\n",
       "      <td>0.500000</td>\n",
       "      <td>34.0</td>\n",
       "      <td>0.352941</td>\n",
       "      <td>20.0</td>\n",
       "      <td>0.800000</td>\n",
       "      <td>48.0</td>\n",
       "      <td>30.0</td>\n",
       "      <td>7.0</td>\n",
       "      <td>7.0</td>\n",
       "      <td>21.0</td>\n",
       "      <td>23.0</td>\n",
       "      <td>loss</td>\n",
       "    </tr>\n",
       "    <tr>\n",
       "      <th>51336</th>\n",
       "      <td>98.0</td>\n",
       "      <td>0.408163</td>\n",
       "      <td>63.0</td>\n",
       "      <td>0.396825</td>\n",
       "      <td>35.0</td>\n",
       "      <td>0.428571</td>\n",
       "      <td>26.0</td>\n",
       "      <td>0.846154</td>\n",
       "      <td>47.0</td>\n",
       "      <td>22.0</td>\n",
       "      <td>14.0</td>\n",
       "      <td>6.0</td>\n",
       "      <td>13.0</td>\n",
       "      <td>23.0</td>\n",
       "      <td>win</td>\n",
       "    </tr>\n",
       "  </tbody>\n",
       "</table>\n",
       "<p>51328 rows × 15 columns</p>\n",
       "</div>"
      ],
      "text/plain": [
       "         fga    fg_pct  fg2a   fg2_pct  fg3a   fg3_pct   fta    ft_pct   reb  \\\n",
       "0       76.0  0.447368  68.0  0.470588   8.0  0.250000  30.0  0.500000  38.0   \n",
       "1       70.0  0.457143  63.0  0.492063   7.0  0.142857  34.0  0.735294  41.0   \n",
       "2       81.0  0.493827  66.0  0.545455  15.0  0.266667  34.0  0.617647  48.0   \n",
       "3       75.0  0.426667  62.0  0.483871  13.0  0.153846  40.0  0.700000  43.0   \n",
       "4       77.0  0.493506  71.0  0.478873   6.0  0.666667  29.0  0.689655  52.0   \n",
       "...      ...       ...   ...       ...   ...       ...   ...       ...   ...   \n",
       "51332   97.0  0.350515  75.0  0.346667  22.0  0.363636  24.0  0.833333  55.0   \n",
       "51333  100.0  0.410000  59.0  0.440678  41.0  0.365854  21.0  0.857143  40.0   \n",
       "51334   93.0  0.580645  65.0  0.615385  28.0  0.500000  26.0  0.769231  52.0   \n",
       "51335   94.0  0.446809  60.0  0.500000  34.0  0.352941  20.0  0.800000  48.0   \n",
       "51336   98.0  0.408163  63.0  0.396825  35.0  0.428571  26.0  0.846154  47.0   \n",
       "\n",
       "        ast   stl  blk    to    pf   win  \n",
       "0      20.0   9.0  4.0  18.0  34.0  loss  \n",
       "1      23.0   8.0  4.0  18.0  26.0   win  \n",
       "2      25.0  18.0  7.0  25.0  35.0   win  \n",
       "3      20.0   9.0  4.0  24.0  26.0  loss  \n",
       "4      25.0  10.0  7.0  25.0  33.0   win  \n",
       "...     ...   ...  ...   ...   ...   ...  \n",
       "51332  20.0   5.0  7.0   8.0  22.0  loss  \n",
       "51333  30.0   9.0  4.0  14.0  19.0  loss  \n",
       "51334  34.0   7.0  9.0  15.0  20.0   win  \n",
       "51335  30.0   7.0  7.0  21.0  23.0  loss  \n",
       "51336  22.0  14.0  6.0  13.0  23.0   win  \n",
       "\n",
       "[51328 rows x 15 columns]"
      ]
     },
     "execution_count": 3,
     "metadata": {},
     "output_type": "execute_result"
    }
   ],
   "source": [
    "nba_df = pickle.load(open(\"data_clean/nba_df2.pkl\", \"rb\")).drop(columns = \"game_id\")\n",
    "nba_df"
   ]
  },
  {
   "cell_type": "markdown",
   "id": "a9f5d3f8",
   "metadata": {},
   "source": [
    "## Dummy Variables\n",
    "All independent variables in this dataset are numerical so there is no need for dummy variables"
   ]
  },
  {
   "cell_type": "markdown",
   "id": "575dc73b",
   "metadata": {},
   "source": [
    "## Training & Test Set Split"
   ]
  },
  {
   "cell_type": "code",
   "execution_count": 4,
   "id": "2c7ec292",
   "metadata": {},
   "outputs": [],
   "source": [
    "X_train, X_test, y_train, y_test = train_test_split(nba_df.drop(columns = \"win\"), nba_df.win, \n",
    "                                                    test_size = 0.3, random_state = 610)"
   ]
  },
  {
   "cell_type": "markdown",
   "id": "08d28825",
   "metadata": {},
   "source": [
    "## Standard Scaler"
   ]
  },
  {
   "cell_type": "code",
   "execution_count": 5,
   "id": "5e417f86",
   "metadata": {},
   "outputs": [],
   "source": [
    "scaler = StandardScaler()\n",
    "scaler.fit(X_train)\n",
    "X_train_scaled = pd.DataFrame(scaler.transform(X_train), columns = X_train.columns)\n",
    "X_test_scaled = pd.DataFrame(scaler.transform(X_test), columns = X_test.columns)"
   ]
  },
  {
   "cell_type": "markdown",
   "id": "b729d326",
   "metadata": {},
   "source": [
    "Creating dummy features (no categorical variables)\n",
    "Scale standardization\n",
    "Split data into training and testing subsets\n"
   ]
  },
  {
   "cell_type": "code",
   "execution_count": 6,
   "id": "8d7c054f",
   "metadata": {},
   "outputs": [],
   "source": [
    "X_train, X_test, y_train, y_test = train_test_split(nba_df.drop(columns = \"win\"), nba_df.win, \n",
    "                                                    test_size = 0.3, random_state = 610)"
   ]
  },
  {
   "cell_type": "code",
   "execution_count": 7,
   "id": "a3ddf842",
   "metadata": {},
   "outputs": [],
   "source": [
    "scaler = StandardScaler()\n",
    "scaler.fit(X_train)\n",
    "X_train_scaled = pd.DataFrame(scaler.transform(X_train), columns = X_train.columns)\n",
    "X_test_scaled = pd.DataFrame(scaler.transform(X_test), columns = X_test.columns)"
   ]
  },
  {
   "cell_type": "markdown",
   "id": "50b8289f",
   "metadata": {},
   "source": [
    "## Checking Train/Test Split"
   ]
  },
  {
   "cell_type": "code",
   "execution_count": 8,
   "id": "93eaeb52",
   "metadata": {},
   "outputs": [
    {
     "name": "stdout",
     "output_type": "stream",
     "text": [
      "<class 'pandas.core.frame.DataFrame'>\n",
      "RangeIndex: 35929 entries, 0 to 35928\n",
      "Data columns (total 14 columns):\n",
      " #   Column   Non-Null Count  Dtype  \n",
      "---  ------   --------------  -----  \n",
      " 0   fga      35929 non-null  float64\n",
      " 1   fg_pct   35929 non-null  float64\n",
      " 2   fg2a     35929 non-null  float64\n",
      " 3   fg2_pct  35929 non-null  float64\n",
      " 4   fg3a     35929 non-null  float64\n",
      " 5   fg3_pct  35929 non-null  float64\n",
      " 6   fta      35929 non-null  float64\n",
      " 7   ft_pct   35929 non-null  float64\n",
      " 8   reb      35929 non-null  float64\n",
      " 9   ast      35929 non-null  float64\n",
      " 10  stl      35929 non-null  float64\n",
      " 11  blk      35929 non-null  float64\n",
      " 12  to       35929 non-null  float64\n",
      " 13  pf       35929 non-null  float64\n",
      "dtypes: float64(14)\n",
      "memory usage: 3.8 MB\n"
     ]
    }
   ],
   "source": [
    "X_train_scaled.info(verbose = True)"
   ]
  },
  {
   "cell_type": "code",
   "execution_count": 10,
   "id": "fa0c48ab",
   "metadata": {},
   "outputs": [
    {
     "name": "stdout",
     "output_type": "stream",
     "text": [
      "<class 'pandas.core.series.Series'>\n",
      "Int64Index: 35929 entries, 44118 to 28938\n",
      "Series name: win\n",
      "Non-Null Count  Dtype \n",
      "--------------  ----- \n",
      "35929 non-null  object\n",
      "dtypes: object(1)\n",
      "memory usage: 561.4+ KB\n"
     ]
    }
   ],
   "source": [
    "y_train.info(verbose = True)"
   ]
  },
  {
   "cell_type": "code",
   "execution_count": 11,
   "id": "a7b9d921",
   "metadata": {},
   "outputs": [
    {
     "name": "stdout",
     "output_type": "stream",
     "text": [
      "<class 'pandas.core.frame.DataFrame'>\n",
      "RangeIndex: 15399 entries, 0 to 15398\n",
      "Data columns (total 14 columns):\n",
      " #   Column   Non-Null Count  Dtype  \n",
      "---  ------   --------------  -----  \n",
      " 0   fga      15399 non-null  float64\n",
      " 1   fg_pct   15399 non-null  float64\n",
      " 2   fg2a     15399 non-null  float64\n",
      " 3   fg2_pct  15399 non-null  float64\n",
      " 4   fg3a     15399 non-null  float64\n",
      " 5   fg3_pct  15399 non-null  float64\n",
      " 6   fta      15399 non-null  float64\n",
      " 7   ft_pct   15399 non-null  float64\n",
      " 8   reb      15399 non-null  float64\n",
      " 9   ast      15399 non-null  float64\n",
      " 10  stl      15399 non-null  float64\n",
      " 11  blk      15399 non-null  float64\n",
      " 12  to       15399 non-null  float64\n",
      " 13  pf       15399 non-null  float64\n",
      "dtypes: float64(14)\n",
      "memory usage: 1.6 MB\n"
     ]
    }
   ],
   "source": [
    "X_test_scaled.info(verbose = True)"
   ]
  },
  {
   "cell_type": "code",
   "execution_count": 12,
   "id": "6a8dea6a",
   "metadata": {},
   "outputs": [
    {
     "name": "stdout",
     "output_type": "stream",
     "text": [
      "<class 'pandas.core.series.Series'>\n",
      "Int64Index: 15399 entries, 33047 to 17857\n",
      "Series name: win\n",
      "Non-Null Count  Dtype \n",
      "--------------  ----- \n",
      "15399 non-null  object\n",
      "dtypes: object(1)\n",
      "memory usage: 240.6+ KB\n"
     ]
    }
   ],
   "source": [
    "y_test.info(verbose = True)"
   ]
  },
  {
   "cell_type": "markdown",
   "id": "e8d945c0",
   "metadata": {},
   "source": [
    "## Save Data"
   ]
  },
  {
   "cell_type": "code",
   "execution_count": 13,
   "id": "714b2c6c",
   "metadata": {},
   "outputs": [],
   "source": [
    "def save_object(obj, filename):\n",
    "    with open(filename, 'wb') as outp:  # Overwrites any existing file.\n",
    "        pickle.dump(obj, outp, pickle.HIGHEST_PROTOCOL)\n",
    "\n",
    "save_object(nba_df, 'data_clean/nba_df3.pkl')\n",
    "save_object(X_train_scaled, 'data_clean/X_train_scaled.pkl')\n",
    "save_object(X_test_scaled, 'data_clean/X_test_scaled.pkl')\n",
    "save_object(y_train, 'data_clean/y_train.pkl')\n",
    "save_object(y_test, 'data_clean/y_test.pkl')"
   ]
  }
 ],
 "metadata": {
  "kernelspec": {
   "display_name": "Python 3 (ipykernel)",
   "language": "python",
   "name": "python3"
  },
  "language_info": {
   "codemirror_mode": {
    "name": "ipython",
    "version": 3
   },
   "file_extension": ".py",
   "mimetype": "text/x-python",
   "name": "python",
   "nbconvert_exporter": "python",
   "pygments_lexer": "ipython3",
   "version": "3.9.12"
  }
 },
 "nbformat": 4,
 "nbformat_minor": 5
}
